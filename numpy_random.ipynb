{
 "cells": [
  {
   "cell_type": "markdown",
   "id": "975886fe-0a55-4494-b53a-6ee5faea5d46",
   "metadata": {},
   "source": [
    "# Python.Random Overview\n",
    "\n",
    "**The content below has been adapted from the [numpy.random API](https://numpy.org/doc/stable/reference/random/index.html#) source with some changes. Look at the documentation section for more details.** \n",
    "\n",
    "## Documentation\n",
    "* [Numpy manual - latest version](https://numpy.org/doc/stable/index.html)\n",
    "* [Random sampling](https://numpy.org/doc/stable/reference/random/index.html)\n",
    "* [Random generator](https://numpy.org/doc/stable/reference/random/generator.html#numpy.random.Generator)\n",
    "* [Bit Generators](https://numpy.org/doc/stable/reference/random/bit_generators/index.html#)"
   ]
  },
  {
   "cell_type": "markdown",
   "id": "1d80f10d-143f-417e-8be4-d34315ab3d39",
   "metadata": {},
   "source": [
    "## References \n",
    "1. Random sampling (numpy.random) — NumPy v1.21 Manual. (2008–2021). NumPy. Retrieved October 31, 2021, from https://numpy.org/doc/stable/reference/random/index.html\n",
    "2. Random Generator — NumPy v1.21 Manual. (2008–2021). NumPy. Retrieved October 31, 2021, from https://numpy.org/doc/stable/reference/random/generator.html#numpy.random.Generator\n",
    "3. Permuted Congruential Generator (64-bit, PCG64) — NumPy v1.21 Manual. (2008–2021). NumPy. Retrieved October 31, 2021, from https://numpy.org/doc/stable/reference/random/bit_generators/pcg64.html#numpy.random.PCG64\n",
    "4. Ebner, J. (2021, July 24). NumPy Random Seed, Explained. Sharp Sight. Retrieved October 31, 2021, from https://www.sharpsightlabs.com/blog/numpy-random-seed/"
   ]
  },
  {
   "cell_type": "code",
   "execution_count": null,
   "id": "2f973ce7-1da9-4c9a-b261-9876246ff8a3",
   "metadata": {},
   "outputs": [],
   "source": []
  }
 ],
 "metadata": {
  "kernelspec": {
   "display_name": "Python 3",
   "language": "python",
   "name": "python3"
  },
  "language_info": {
   "codemirror_mode": {
    "name": "ipython",
    "version": 3
   },
   "file_extension": ".py",
   "mimetype": "text/x-python",
   "name": "python",
   "nbconvert_exporter": "python",
   "pygments_lexer": "ipython3",
   "version": "3.8.8"
  }
 },
 "nbformat": 4,
 "nbformat_minor": 5
}
