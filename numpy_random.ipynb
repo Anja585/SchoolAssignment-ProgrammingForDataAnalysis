{
 "cells": [
  {
   "cell_type": "markdown",
   "id": "975886fe-0a55-4494-b53a-6ee5faea5d46",
   "metadata": {},
   "source": [
    "# Python.Random Overview\n",
    "\n",
    "**The content below has been adapted from the [numpy.random API](https://numpy.org/doc/stable/reference/random/index.html#) source with some changes. Look at the documentation section for more details.** \n",
    "\n",
    "random is a module within the numpy library used to work with random numbers. \n",
    "\n",
    "Can the python program make truly random number? \n",
    "\n",
    "No. Random number generated with Python is not fully random in the scientific sense of the word but *pseudorandom* - generated with a pseudorandom number generator (PRNG), which is essentially any algorithm for generating seemingly random but still reproducible data. [[6]](#References)\n",
    " \n",
    "PRNG starts with a random number, known as the seed, and then uses an algorithm to generate a pseudo-random sequence of bits based on it. random.seed() function call is seeding the underlying random number generator (PRNG) and this is what makes subsequent calls to generate random numbers deterministic. [[6]](#References)\n",
    "\n",
    "Numpy’s random number routines produce pseudorandom numbers using combinations of a BitGenerator to create sequences and a Generator to use those sequences to sample from different statistical distributions:\n",
    "\n",
    "* BitGenerators: Objects that generate random numbers. These are typically unsigned integer words filled with sequences of either 32 or 64 random bits.\n",
    "* Generators: Objects that transform sequences of random bits from a BitGenerator into sequences of numbers that follow a specific probability distribution (such as uniform, Normal or Binomial) within a specified interval. [[1]](#References)\n",
    "\n",
    "## Documentation\n",
    "* [Numpy manual - latest version](https://numpy.org/doc/stable/index.html)\n",
    "* [Random sampling](https://numpy.org/doc/stable/reference/random/index.html)\n",
    "* [Random generator](https://numpy.org/doc/stable/reference/random/generator.html#numpy.random.Generator)\n",
    "* [Bit Generators](https://numpy.org/doc/stable/reference/random/bit_generators/index.html#)"
   ]
  },
  {
   "cell_type": "markdown",
   "id": "94fd0bc1-54c8-495e-9a2f-52654846c470",
   "metadata": {},
   "source": [
    "## Generating simple random data using NumPy\n",
    "\n",
    "**Adapted from the [W3Schools](https://www.w3schools.com/python/numpy/numpy_random.asp) tutorial [[5]](#References), [TowardsDataScience](https://towardsdatascience.com/statistics-in-python-generating-random-numbers-in-python-numpy-and-sklearn-60e16b2210ae) [[10]](#References) and [Random Generator](https://numpy.org/doc/stable/reference/random/generator.html#numpy.random.Generator) [[2]](#References)**."
   ]
  },
  {
   "cell_type": "markdown",
   "id": "84adad20-04c2-48fd-8e4d-720fa1b16649",
   "metadata": {},
   "source": [
    "The random module contains several functions that allows you to generate random numbers.\n",
    "\n",
    "The integers() function generates an integer numbers within the half-open interval:"
   ]
  },
  {
   "cell_type": "code",
   "execution_count": 1,
   "id": "b84791e7-1e9e-418d-9436-b7bee8d857ce",
   "metadata": {},
   "outputs": [
    {
     "name": "stdout",
     "output_type": "stream",
     "text": [
      "69\n"
     ]
    }
   ],
   "source": [
    "import numpy as np\n",
    " \n",
    "# Generate a random integer from [0 to 100):\n",
    "rng = np.random.default_rng(12345) # instatiating the Generator with the default BitGenerator\n",
    "x = rng.integers(100)\n",
    "print(x)\n"
   ]
  },
  {
   "cell_type": "markdown",
   "id": "f6fe59d3-ab05-4bea-8b1d-6e1dc1e6b55f",
   "metadata": {},
   "source": [
    "You can also generate a list of integer values in multi-dimension:"
   ]
  },
  {
   "cell_type": "code",
   "execution_count": 2,
   "id": "a961694c-7b41-4364-a0ce-20dc939d3626",
   "metadata": {},
   "outputs": [
    {
     "name": "stdout",
     "output_type": "stream",
     "text": [
      "[[22 78 31 20 79]\n",
      " [64 67 98 39 83]\n",
      " [33 56 59 21 18]]\n"
     ]
    }
   ],
   "source": [
    "# [0,100) in 2D array  \n",
    "x = rng.integers(100, size=(3, 5)) # ([0,100) x 5) x 3\n",
    "print(x)"
   ]
  },
  {
   "cell_type": "markdown",
   "id": "4bad6007-46f9-4d23-821e-0f74f28966ce",
   "metadata": {},
   "source": [
    "If you just want to generate foating point numbers in the half-open interval, there is a function random() you can use:"
   ]
  },
  {
   "cell_type": "code",
   "execution_count": 3,
   "id": "738c6264-3c58-4aa2-a5f0-0ad1aac09ec3",
   "metadata": {},
   "outputs": [
    {
     "name": "stdout",
     "output_type": "stream",
     "text": [
      "[0.67275604 0.94180287 0.24824571 0.94888115 0.66723745 0.09589794\n",
      " 0.44183967 0.88647992 0.6974535 ]\n"
     ]
    }
   ],
   "source": [
    "# Generate a random float from [0 to 1):\n",
    "x = rng.random(9)\n",
    "print(x)"
   ]
  },
  {
   "cell_type": "markdown",
   "id": "0699cf63-fa3f-4ab3-a711-878a1721167c",
   "metadata": {},
   "source": [
    "The random() function makes it easy to generate values of half-open interval in various dimensions:"
   ]
  },
  {
   "cell_type": "code",
   "execution_count": 4,
   "id": "c10b1be1-78fe-413d-8c16-9c1417902df3",
   "metadata": {},
   "outputs": [
    {
     "name": "stdout",
     "output_type": "stream",
     "text": [
      "[[0.32647286 0.73392816 0.22013496]\n",
      " [0.08159457 0.1598956  0.34010018]]\n"
     ]
    }
   ],
   "source": [
    "# [0,1) in 2D array\n",
    "x = rng.random((2,3)) # ([0,100] x 3) x 2)\n",
    "print(x)"
   ]
  },
  {
   "cell_type": "markdown",
   "id": "6c56adf8-a382-4ada-9047-076e42ccbe0d",
   "metadata": {},
   "source": [
    "The choice() function generates random elements for the sequence of data:"
   ]
  },
  {
   "cell_type": "code",
   "execution_count": 5,
   "id": "d8c7bcda-6b16-45c1-816a-28b52898c659",
   "metadata": {},
   "outputs": [
    {
     "name": "stdout",
     "output_type": "stream",
     "text": [
      "[[5 5 5 5 7]\n",
      " [9 5 3 3 3]\n",
      " [3 3 3 7 9]]\n"
     ]
    }
   ],
   "source": [
    "# Generate a 2-D array that consists of the values in the array parameter (3, 5, 7, and 9)\n",
    "x = rng.choice([3, 5, 7, 9], size=(3, 5)) # ((3, 5, 7, and 9) x 5) x 3\n",
    "print(x)"
   ]
  },
  {
   "cell_type": "markdown",
   "id": "149dd5ea-77ee-45d2-b607-7424720cbc21",
   "metadata": {},
   "source": []
  },
  {
   "cell_type": "markdown",
   "id": "83e973c9-4237-40a7-9f8e-3823179a652b",
   "metadata": {},
   "source": [
    "## Plotting the random numbers \n",
    "\n",
    "**Adapted from the [Real Python](https://realpython.com/python-statistics/) [[11]](#References)**."
   ]
  },
  {
   "cell_type": "markdown",
   "id": "f88c6612-dd15-494e-81a8-fb29c8d53c57",
   "metadata": {},
   "source": [
    "We will use rng.integers() function in this example. \n",
    "\n",
    "The function returns random integers from the *“discrete uniform”* distribution. To illustrate the distibution of the data we can use bar chart. It can show the pairs of data from two datasets. Items of one set are the labels, while the corresponding items of the other are their frequencies. [[11]](#References)"
   ]
  },
  {
   "cell_type": "code",
   "execution_count": 6,
   "id": "b9a2f282-6893-414d-a272-ca20863629cd",
   "metadata": {},
   "outputs": [
    {
     "data": {
      "image/png": "[encoded data removed]",
      "text/plain": [
       "<Figure size 432x288 with 1 Axes>"
      ]
     },
     "metadata": {
      "needs_background": "light"
     },
     "output_type": "display_data"
    }
   ],
   "source": [
    "import matplotlib.pyplot as plt\n",
    "\n",
    "x = np.arange(50) # setting the values for x-axis\n",
    "y = rng.integers(50, size=50) # setting the values for y-axis\n",
    "\n",
    "fig, ax = plt.subplots()\n",
    "ax.bar(x, y)\n",
    "ax.set_xlabel('x')\n",
    "ax.set_ylabel('y')\n",
    "plt.show()\n"
   ]
  },
  {
   "cell_type": "markdown",
   "id": "1ace0668-f6de-47f0-a3a8-6e05e06608c0",
   "metadata": {},
   "source": [
    "## How to use NumPy permutations\n",
    "**Adapted from the [Python Pool](https://www.pythonpool.com/numpy-random-permutation/) [[14]](#References) and [Random Generator](https://numpy.org/doc/stable/reference/random/generator.html#numpy.random.default_rng) [[2]](#References)**\n",
    "\n",
    "A permutation refers to an arrangement of elements. e.g. [3, 2, 1] is a permutation of [1, 2, 3] and vice-versa. The NumPy Random module provides two methods for this: shuffle(), permutation() and permuted(). [[13]](#References)\n",
    "\n",
    "The main difference between Generator.shuffle and Generator.permutation is that Generator.shuffle operates in-place, while Generator.permutation returns a copy.By default, Generator.permuted returns a copy. To operate in-place with Generator.permuted, pass the same array as the first argument and as the value of the out parameter. [[2]](#References) "
   ]
  },
  {
   "cell_type": "code",
   "execution_count": 7,
   "id": "09229f35-617a-4358-ab5b-0f5e7e580dfd",
   "metadata": {},
   "outputs": [
    {
     "name": "stdout",
     "output_type": "stream",
     "text": [
      "[42 32 30 16 46 32 36 36 43 35 46 27 27 12 46 27 24 15 13 31 22 28 33 44\n",
      " 16 34 45 22 12 14 16 31 12 41 17  3  0  1 31 17 14 30  3 27 30  1  8 19\n",
      " 15 47]\n",
      "[15  0 27  1 27 35 27 42 36 30 12 24 47  8 45 44 31 17 31 46 32 34 27 12\n",
      " 14 14 15 13 46 30 19 17 33 30 31 46 43  3  3 36 28 22 16  1 41 16 22 12\n",
      " 16 32]\n"
     ]
    },
    {
     "data": {
      "image/png": "[encoded data removed]",
      "text/plain": [
       "<Figure size 432x288 with 1 Axes>"
      ]
     },
     "metadata": {
      "needs_background": "light"
     },
     "output_type": "display_data"
    }
   ],
   "source": [
    "# Generator is seeded as calling y always return the same array  \n",
    "print(y)\n",
    "\n",
    "# the shuffle() method makes changes to the original array\n",
    "rng.shuffle(y)\n",
    "print(y) \n",
    "\n",
    "fig, ax = plt.subplots()\n",
    "ax.bar(x, y)\n",
    "ax.set_xlabel('x')\n",
    "ax.set_ylabel('y')\n",
    "plt.show()"
   ]
  },
  {
   "cell_type": "markdown",
   "id": "b3b37a7d-7484-44f3-88d0-facc2ba84d8c",
   "metadata": {},
   "source": [
    "As we can see from the plot, shuffle() method re-arranged the original y array and this new array is now a default. "
   ]
  },
  {
   "cell_type": "code",
   "execution_count": 8,
   "id": "7cd7a80e-8d9e-40b1-a1b2-b6adebc39957",
   "metadata": {},
   "outputs": [
    {
     "name": "stdout",
     "output_type": "stream",
     "text": [
      "[17 15 16 31 22 27 33  3 15 46 42 12 12 36 44 36 22 13 27  0 30 31 14  1\n",
      " 24 31 14 27 43 46 30 16 47  3 35 32 30 46 16 27 17  8 19 45  1 34 32 12\n",
      " 41 28]\n",
      "[15  0 27  1 27 35 27 42 36 30 12 24 47  8 45 44 31 17 31 46 32 34 27 12\n",
      " 14 14 15 13 46 30 19 17 33 30 31 46 43  3  3 36 28 22 16  1 41 16 22 12\n",
      " 16 32]\n"
     ]
    },
    {
     "data": {
      "image/png": "[encoded data removed]",
      "text/plain": [
       "<Figure size 432x288 with 1 Axes>"
      ]
     },
     "metadata": {
      "needs_background": "light"
     },
     "output_type": "display_data"
    }
   ],
   "source": [
    "# permutation() method returns a re-arranged array and leaves the original array un-changed\n",
    "print(rng.permutation(y)) \n",
    "print(y)\n",
    "\n",
    "fig, ax = plt.subplots()\n",
    "ax.bar(x, y)\n",
    "ax.set_xlabel('x')\n",
    "ax.set_ylabel('y')\n",
    "plt.show()"
   ]
  },
  {
   "cell_type": "markdown",
   "id": "ac9a2939-1eb1-49e3-926b-aeb239bb4d29",
   "metadata": {},
   "source": [
    "As we can see from the print() results and the plot, permutation() method re-arranged the array but leaved the original un-changed."
   ]
  },
  {
   "cell_type": "code",
   "execution_count": 9,
   "id": "3dfe85e1-755b-42a8-95e3-fe425c6e2027",
   "metadata": {},
   "outputs": [
    {
     "name": "stdout",
     "output_type": "stream",
     "text": [
      "[44 43 30  3 17 47  3 30 32 12 41  1 14 31 36  1 31 27 33 17 35  0 19 31\n",
      " 22 42 27 15 12 32 15 46 16 16 16 27 12 45 27 22 24 13 30 46  8 34 36 46\n",
      " 14 28]\n",
      "[44 43 30  3 17 47  3 30 32 12 41  1 14 31 36  1 31 27 33 17 35  0 19 31\n",
      " 22 42 27 15 12 32 15 46 16 16 16 27 12 45 27 22 24 13 30 46  8 34 36 46\n",
      " 14 28]\n"
     ]
    },
    {
     "data": {
      "image/png": "[encoded data removed]",
      "text/plain": [
       "<Figure size 432x288 with 1 Axes>"
      ]
     },
     "metadata": {
      "needs_background": "light"
     },
     "output_type": "display_data"
    }
   ],
   "source": [
    "# permuted() function method makes changes to the original array if we pass out parameter\n",
    "print(rng.permuted(y, out=y))\n",
    "print(y)\n",
    "\n",
    "fig, ax = plt.subplots()\n",
    "ax.bar(x, y)\n",
    "ax.set_xlabel('x')\n",
    "ax.set_ylabel('y')\n",
    "plt.show()"
   ]
  },
  {
   "cell_type": "markdown",
   "id": "db4f3a80-4494-44dc-84fe-2a50af7dac43",
   "metadata": {},
   "source": [
    "## Use of NumPy distribution functions \n",
    "**Adapted from the [bcm blogs](https://www.bmc.com/blogs/numpy-statistical-functions/#) [[15]](#References) and [Random Generator](https://numpy.org/doc/stable/reference/random/generator.html#numpy.random.default_rng) [[2]](#References)**\n",
    "\n",
    "NumPy supports many many statistical distributions. NumPy distributution functions draw samples from the probability distribututions of statistics resulting in a curve. In this section we will go though five of them. "
   ]
  },
  {
   "cell_type": "markdown",
   "id": "a1a6f9aa-e5b3-4e36-9ccc-1ef8a0dffeca",
   "metadata": {},
   "source": [
    "### Normal (Gaussian) distribution"
   ]
  },
  {
   "cell_type": "code",
   "execution_count": 10,
   "id": "12d72f5b-7768-4ea4-856b-0b05b2cb76ca",
   "metadata": {},
   "outputs": [
    {
     "data": {
      "image/png": "[encoded data removed]",
      "text/plain": [
       "<Figure size 432x288 with 1 Axes>"
      ]
     },
     "metadata": {
      "needs_background": "light"
     },
     "output_type": "display_data"
    }
   ],
   "source": [
    "s = rng.normal(loc=0,scale=1,size=1000) # drawing the samples from the distibution \n",
    "plt.plot(s)\n",
    "plt.show()"
   ]
  },
  {
   "cell_type": "markdown",
   "id": "c796c6fe-8c72-4919-8a31-fdb7f3bea9a3",
   "metadata": {},
   "source": [
    "Using random() function in NumPy, we are saying to pick up the sample from the normal distribution. Notice above that the numbers hover about the mean 0. The normal distributions occurs often in nature. For example, it describes the commonly occurring distribution of samples influenced by a large number of tiny, random disturbances, each with its own unique distribution. [[15]](#Reference)"
   ]
  },
  {
   "cell_type": "markdown",
   "id": "b5c41751-aacc-4b5b-bdb3-8a24b63798c2",
   "metadata": {},
   "source": [
    "### Weibull distribution"
   ]
  },
  {
   "cell_type": "code",
   "execution_count": 11,
   "id": "e018792e-48ff-4803-b33d-55401b5903f9",
   "metadata": {},
   "outputs": [
    {
     "data": {
      "text/plain": [
       "(array([  9.,  18.,  53., 100., 184., 219., 207., 136.,  64.,  10.]),\n",
       " array([0.24345769, 0.3662301 , 0.4890025 , 0.61177491, 0.73454732,\n",
       "        0.85731973, 0.98009214, 1.10286454, 1.22563695, 1.34840936,\n",
       "        1.47118177]),\n",
       " <BarContainer object of 10 artists>)"
      ]
     },
     "execution_count": 11,
     "metadata": {},
     "output_type": "execute_result"
    },
    {
     "data": {
      "image/png": "[encoded data removed]",
      "text/plain": [
       "<Figure size 432x288 with 1 Axes>"
      ]
     },
     "metadata": {
      "needs_background": "light"
     },
     "output_type": "display_data"
    }
   ],
   "source": [
    "shape=5\n",
    "s = rng.weibull(shape,1000)\n",
    "plt.hist(s)"
   ]
  },
  {
   "cell_type": "markdown",
   "id": "cee90ae4-00cc-46aa-a86a-5f1073cdbba1",
   "metadata": {},
   "source": [
    "Weibull is most often used in preventive maintenance applications. It’s basically the failure rate over time. In terms of machines like truck components this is called Time to Failure. Manufacturers publish for planning purposes. Shape is how quickly over time the component is likely to fail, or the steepness of the curve. [[15]](#Reference)"
   ]
  },
  {
   "cell_type": "markdown",
   "id": "3e080e00-0a7c-4886-8997-b98622af10bf",
   "metadata": {},
   "source": [
    "### Poisson distribution"
   ]
  },
  {
   "cell_type": "code",
   "execution_count": 12,
   "id": "b7557373-0cd0-48c7-9890-e613ac72e529",
   "metadata": {},
   "outputs": [
    {
     "data": {
      "text/plain": [
       "[<matplotlib.lines.Line2D at 0x19d6d297fd0>]"
      ]
     },
     "execution_count": 12,
     "metadata": {},
     "output_type": "execute_result"
    },
    {
     "data": {
      "image/png": "[encoded data removed]",
      "text/plain": [
       "<Figure size 432x288 with 1 Axes>"
      ]
     },
     "metadata": {
      "needs_background": "light"
     },
     "output_type": "display_data"
    }
   ],
   "source": [
    "s = rng.poisson(2,400)\n",
    "plt.plot(s)"
   ]
  },
  {
   "cell_type": "markdown",
   "id": "539ce204-93c2-4241-9040-ed759f8a4e27",
   "metadata": {},
   "source": [
    "Poisson is the probability of a given number of people in the lines over a period of time.For example, the length of a queue in a supermarket is governed by the Poisson distribution. If you know that, then you can continue shopping until the line gets shorter and not wait around. That’s because the line length varies, and varies a lot, over time. It’s not the same length all day. [[15]](#Reference)"
   ]
  },
  {
   "cell_type": "markdown",
   "id": "e3e7db60-2748-42ca-89fb-e7e1b774ef0c",
   "metadata": {},
   "source": [
    "### Binomial distribution"
   ]
  },
  {
   "cell_type": "code",
   "execution_count": 13,
   "id": "145fb3df-fb7d-418b-9372-53980d246ce6",
   "metadata": {},
   "outputs": [
    {
     "data": {
      "text/plain": [
       "(array([  2.,   6.,  44., 119., 194., 269., 209., 107.,  46.,   4.]),\n",
       " array([0. , 0.9, 1.8, 2.7, 3.6, 4.5, 5.4, 6.3, 7.2, 8.1, 9. ]),\n",
       " <BarContainer object of 10 artists>)"
      ]
     },
     "execution_count": 13,
     "metadata": {},
     "output_type": "execute_result"
    },
    {
     "data": {
      "image/png": "[encoded data removed]",
      "text/plain": [
       "<Figure size 432x288 with 1 Axes>"
      ]
     },
     "metadata": {
      "needs_background": "light"
     },
     "output_type": "display_data"
    }
   ],
   "source": [
    "rng = np.random.default_rng()\n",
    "n, p = 10, 0.5  # number of trials, probability of each trial\n",
    "s = rng.binomial(n, p, 1000)\n",
    "plt.hist(s)"
   ]
  },
  {
   "cell_type": "markdown",
   "id": "682aaeed-c133-4b2a-a9e5-d4dbcc414742",
   "metadata": {},
   "source": [
    "Binomial is discrete outcomes, like rolling dice. Above plot shows result of flipping a coin 10 times, tested 1000 times. [[19]](#Reference)"
   ]
  },
  {
   "cell_type": "markdown",
   "id": "38357795-dea2-4a10-8dd3-80db1c940ecc",
   "metadata": {},
   "source": [
    "### Uniform distibution"
   ]
  },
  {
   "cell_type": "code",
   "execution_count": 14,
   "id": "b37ae9d1-97bf-4b67-920a-f34d0af7dc5a",
   "metadata": {},
   "outputs": [
    {
     "data": {
      "text/plain": [
       "(array([114.,  90.,  94., 106.,  93., 101., 102.,  99.,  87., 114.]),\n",
       " array([-9.99929544e-01, -9.00004609e-01, -8.00079673e-01, -7.00154738e-01,\n",
       "        -6.00229803e-01, -5.00304868e-01, -4.00379932e-01, -3.00454997e-01,\n",
       "        -2.00530062e-01, -1.00605126e-01, -6.80191238e-04]),\n",
       " <BarContainer object of 10 artists>)"
      ]
     },
     "execution_count": 14,
     "metadata": {},
     "output_type": "execute_result"
    },
    {
     "data": {
      "image/png": "[encoded data removed]",
      "text/plain": [
       "<Figure size 432x288 with 1 Axes>"
      ]
     },
     "metadata": {
      "needs_background": "light"
     },
     "output_type": "display_data"
    }
   ],
   "source": [
    "s = rng.uniform(-1,0,1000)\n",
    "plt.hist(s)"
   ]
  },
  {
   "cell_type": "markdown",
   "id": "d3645e48-851e-43ec-88d9-224b354e5922",
   "metadata": {},
   "source": [
    "Uniform distribution varies at equal probability between a high and low range. [[15]](#Reference)"
   ]
  },
  {
   "cell_type": "markdown",
   "id": "4e4a09eb-bcee-407f-8080-fc47fb38a449",
   "metadata": {},
   "source": [
    "## Seeds explained\n",
    "\n",
    "We use seeds when we need to generate random numbers or mimic random processes in NumPy. Seeds provide a starting input for the pseudorandom number generator (PRNG) to produce pseudoramdom numbers. Ultimately, creating pseudo-random numbers this way leads to repeatable output, which is good for testing and code sharing. [[4]](#References)\n",
    "\n",
    "By default, Generator uses bits provided by PCG64 which has better statistical properties than the legacy MT19937 used in RandomState.[[2]](#References) \n"
   ]
  },
  {
   "cell_type": "code",
   "execution_count": 15,
   "id": "37cc46c5-3948-4592-b38e-251aec26a4c5",
   "metadata": {},
   "outputs": [
    {
     "data": {
      "text/plain": [
       "-1.4238250364546312"
      ]
     },
     "execution_count": 15,
     "metadata": {},
     "output_type": "execute_result"
    }
   ],
   "source": [
    "from numpy.random import Generator, PCG64\n",
    "\n",
    "rng = Generator(PCG64(12345))\n",
    "rng.standard_normal()"
   ]
  },
  {
   "cell_type": "markdown",
   "id": "580f1909-515a-4e06-a3f6-7add3daef02d",
   "metadata": {},
   "source": [
    "Seeds can be passed to any of the BitGenerators. The provided value is mixed via SeedSequence to spread a possible sequence of seeds across a wider range of initialization states for the BitGenerator. Here PCG64 is used and is wrapped with a Generator. [[2]](#References)"
   ]
  },
  {
   "cell_type": "code",
   "execution_count": 16,
   "id": "5f948f61-a604-4173-9c51-5a2e80203b4b",
   "metadata": {},
   "outputs": [
    {
     "data": {
      "text/plain": [
       "-1.4238250364546312"
      ]
     },
     "execution_count": 16,
     "metadata": {},
     "output_type": "execute_result"
    }
   ],
   "source": [
    "rng = Generator(PCG64(12345))\n",
    "rng.standard_normal()"
   ]
  },
  {
   "cell_type": "markdown",
   "id": "78cdbf85-1132-472b-91ff-0bb42a2e78ec",
   "metadata": {},
   "source": [
    "Once again, as you can see, the code produces the same number if we use the same seed as noted previously."
   ]
  },
  {
   "cell_type": "markdown",
   "id": "b311dbdc-f8e9-464c-8217-b869160de1e9",
   "metadata": {},
   "source": [
    "### PCG64 vs MTS9937"
   ]
  },
  {
   "cell_type": "markdown",
   "id": "6f2e3f99-5c7f-41f3-b482-7f422248d2e0",
   "metadata": {},
   "source": [
    "The recommended generator for general use is PCG64 or its upgraded variant PCG64DXSM for heavily-parallel use cases. They are statistically high quality, full-featured, and fast on most platforms, but somewhat slow when compiled for 32-bit processes. [[20]](#References)\n",
    "\n",
    "MT19937 fails some statistical tests and is not especially fast compared to modern PRNGs. For these reasons, it is mostly not recommended using it on its own, only through the legacy RandomState for reproducing old results. [[20]](#References)"
   ]
  },
  {
   "cell_type": "markdown",
   "id": "1d80f10d-143f-417e-8be4-d34315ab3d39",
   "metadata": {},
   "source": [
    "## References \n",
    "1. Random sampling (numpy.random) — NumPy v1.21 Manual. (2008–2021). NumPy. Retrieved October 31, 2021, from https://numpy.org/doc/stable/reference/random/index.html\n",
    "2. Random Generator — NumPy v1.21 Manual. (2008–2021). NumPy. Retrieved October 31, 2021, from https://numpy.org/doc/stable/reference/random/generator.html#numpy.random.Generator\n",
    "3. Permuted Congruential Generator (64-bit, PCG64) — NumPy v1.21 Manual. (2008–2021). NumPy. Retrieved October 31, 2021, from https://numpy.org/doc/stable/reference/random/bit_generators/pcg64.html#numpy.random.PCG64\n",
    "4. Ebner, J. (2021, July 24). NumPy Random Seed, Explained. Sharp Sight. Retrieved October 31, 2021, from https://www.sharpsightlabs.com/blog/numpy-random-seed/\n",
    "5. Introduction to Random Numbers in NumPy. (1999–2021). W3schools. Retrieved October 31, 2021, from https://www.w3schools.com/python/numpy/numpy_random.asp\n",
    "6. Real Python. (2021, April 3). Generating Random Data in Python (Guide). Retrieved October 31, 2021, from https://realpython.com/python-random/\n",
    "7. random — Generate pseudo-random numbers — Python 3.10.0 documentation. (2001–2021). Python. Retrieved October 31, 2021, from https://docs.python.org/3/library/random.html\n",
    "8. Jupyter Notebook Users Manual.ipynb. (n.d.). Jupyter at Bryn Mawr College. Retrieved November 2, 2021, from https://jupyter.brynmawr.edu/services/public/dblank/Jupyter%20Notebook%20Users%20Manual.ipynb#4.3.5-Notebook-Internal-Links\n",
    "9. Python Random Module. (1999–2021). W3schools. Retrieved November 7, 2021, from https://www.w3schools.com/python/module_random.asp\n",
    "10. Lee, W. (2021, September 27). Statistics in Python — Generating Random Numbers in Python, NumPy, and sklearn. Toward Data Science. Retrieved November 7, 2021, from https://towardsdatascience.com/statistics-in-python-generating-random-numbers-in-python-numpy-and-sklearn-60e16b2210ae\n",
    "11. Real Python. (2021, March 19). Python Statistics Fundamentals: How to Describe Your Data. Retrieved November 7, 2021, from https://realpython.com/python-statistics/\n",
    "12. Random Data Distribution. (1999–2021). W3schools. Retrieved November 13, 2021, from https://www.w3schools.com/python/numpy/numpy_random_distribution.asp\n",
    "13. Random Permutations. (1999–2021). W3schools. Retrieved November 13, 2021, from https://www.w3schools.com/python/numpy/numpy_random_permutation.asp\n",
    "14. Jain, S. (2021, June 14). Numpy Permutation() | How to use np.random.permutation(). Python Pool. Retrieved November 13, 2021, from https://www.pythonpool.com/numpy-random-permutation/\n",
    "15. Rowe, W. (2021, January 27). Top NumPy Statistical Functions & Distributions. BMC Blogs. Retrieved November 17, 2021, from https://www.bmc.com/blogs/numpy-statistical-functions/#\n",
    "16. numpy.random.Generator.weibull — NumPy v1.21 Manual. (n.d.). NumPy. Retrieved November 20, 2021, from https://numpy.org/doc/stable/reference/random/generated/numpy.random.Generator.weibull.html#numpy.random.Generator.weibull\n",
    "17. numpy.random.Generator.poisson — NumPy v1.21 Manual. (n.d.). NumPy. Retrieved November 20, 2021, from https://numpy.org/doc/stable/reference/random/generated/numpy.random.Generator.poisson.html#numpy.random.Generator.poisson\n",
    "18. numpy.random.Generator.binomial — NumPy v1.21 Manual. (n.d.). NumPy. Retrieved November 20, 2021, from https://numpy.org/doc/stable/reference/random/generated/numpy.random.Generator.binomial.html#numpy.random.Generator.binomial\n",
    "19. numpy.random.Generator.uniform — NumPy v1.21 Manual. (n.d.). NumPy. Retrieved November 20, 2021, from https://numpy.org/doc/stable/reference/random/generated/numpy.random.Generator.uniform.html#numpy.random.Generator.uniform\n",
    "20. Performance — NumPy v1.21 Manual. (n.d.). NumPy. Retrieved November 20, 2021, from https://numpy.org/doc/stable/reference/random/performance.html"
   ]
  }
 ],
 "metadata": {
  "kernelspec": {
   "display_name": "Python 3",
   "language": "python",
   "name": "python3"
  },
  "language_info": {
   "codemirror_mode": {
    "name": "ipython",
    "version": 3
   },
   "file_extension": ".py",
   "mimetype": "text/x-python",
   "name": "python",
   "nbconvert_exporter": "python",
   "pygments_lexer": "ipython3",
   "version": "3.8.8"
  }
 },
 "nbformat": 4,
 "nbformat_minor": 5
}
