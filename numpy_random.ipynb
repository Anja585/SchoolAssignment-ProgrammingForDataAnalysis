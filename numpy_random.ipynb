{
 "cells": [
  {
   "cell_type": "markdown",
   "id": "975886fe-0a55-4494-b53a-6ee5faea5d46",
   "metadata": {},
   "source": [
    "# Python.Random Overview\n",
    "\n",
    "**The content below has been adapted from the [numpy.random API](https://numpy.org/doc/stable/reference/random/index.html#) source with some changes. Look at the documentation section for more details.** \n",
    "\n",
    "random is a module within the numpy library used to work with random numbers. \n",
    "\n",
    "Can the python program make truly random number? \n",
    "\n",
    "No. Random number generated with Python is not fully random in the scientific sense of the word but *pseudorandom* - generated with a pseudorandom number generator (PRNG), which is essentially any algorithm for generating seemingly random but still reproducible data. [[6]](#References)\n",
    " \n",
    "PRNG starts with a random number, known as the seed, and then uses an algorithm to generate a pseudo-random sequence of bits based on it. random.seed() function call is seeding the underlying random number generator (PRNG) and this is what makes subsequent calls to generate random numbers deterministic. [[6]](#References)\n",
    "\n",
    "Numpy’s random number routines produce pseudorandom numbers using combinations of a BitGenerator to create sequences and a Generator to use those sequences to sample from different statistical distributions:\n",
    "\n",
    "* BitGenerators: Objects that generate random numbers. These are typically unsigned integer words filled with sequences of either 32 or 64 random bits.\n",
    "* Generators: Objects that transform sequences of random bits from a BitGenerator into sequences of numbers that follow a specific probability distribution (such as uniform, Normal or Binomial) within a specified interval. [[1]](#References)\n",
    "\n",
    "## Documentation\n",
    "* [Numpy manual - latest version](https://numpy.org/doc/stable/index.html)\n",
    "* [Random sampling](https://numpy.org/doc/stable/reference/random/index.html)\n",
    "* [Random generator](https://numpy.org/doc/stable/reference/random/generator.html#numpy.random.Generator)\n",
    "* [Bit Generators](https://numpy.org/doc/stable/reference/random/bit_generators/index.html#)"
   ]
  },
  {
   "cell_type": "markdown",
   "id": "94fd0bc1-54c8-495e-9a2f-52654846c470",
   "metadata": {},
   "source": [
    "## Generating simple random data using NumPy\n",
    "\n",
    "**Adapted from the [W3Schools](https://www.w3schools.com/python/numpy/numpy_random.asp) tutorial [[5]](#References) and [TowardsDataScience](https://towardsdatascience.com/statistics-in-python-generating-random-numbers-in-python-numpy-and-sklearn-60e16b2210ae) [[10]](#References)**."
   ]
  },
  {
   "cell_type": "markdown",
   "id": "84adad20-04c2-48fd-8e4d-720fa1b16649",
   "metadata": {},
   "source": [
    "The random module contains several functions that allows you to generate random numbers.\n",
    "\n",
    "The randint() function generates an integer numbers within the half-open interval:"
   ]
  },
  {
   "cell_type": "code",
   "execution_count": 1,
   "id": "62e792c8-62fc-4e00-aac1-2eba86710019",
   "metadata": {},
   "outputs": [
    {
     "name": "stdout",
     "output_type": "stream",
     "text": [
      "16\n"
     ]
    }
   ],
   "source": [
    "from numpy import random\n",
    "\n",
    "# Generate a random integer from [0 to 100):\n",
    "x = random.randint(100) \n",
    "print(x)"
   ]
  },
  {
   "cell_type": "markdown",
   "id": "4bad6007-46f9-4d23-821e-0f74f28966ce",
   "metadata": {},
   "source": [
    "You can also generate a list of integer values in multi-dimension:"
   ]
  },
  {
   "cell_type": "code",
   "execution_count": 2,
   "id": "1ba6f6cd-87be-4750-9892-e68fcf254e91",
   "metadata": {},
   "outputs": [
    {
     "name": "stdout",
     "output_type": "stream",
     "text": [
      "[[96 69 15  1 82]\n",
      " [ 5 52 77 42 71]\n",
      " [95 15 45 79 34]]\n"
     ]
    }
   ],
   "source": [
    "# [0,100) in 2D array  \n",
    "x = random.randint(100, size=(3, 5)) # ([0,100) x 5) x 3\n",
    "print(x)"
   ]
  },
  {
   "cell_type": "markdown",
   "id": "0699cf63-fa3f-4ab3-a711-878a1721167c",
   "metadata": {},
   "source": [
    "If you just want to generate foating point numbers in the half-open interval, there is a function rand() you can use:"
   ]
  },
  {
   "cell_type": "code",
   "execution_count": 3,
   "id": "c10b1be1-78fe-413d-8c16-9c1417902df3",
   "metadata": {},
   "outputs": [
    {
     "name": "stdout",
     "output_type": "stream",
     "text": [
      "[0.24910886 0.24974657 0.95917313 0.07069068 0.67544205 0.3698565\n",
      " 0.07714936 0.40482668 0.3273783 ]\n"
     ]
    }
   ],
   "source": [
    "# Generate a random float from [0 to 1):\n",
    "x = random.rand(9)\n",
    "print(x)"
   ]
  },
  {
   "cell_type": "markdown",
   "id": "641f4470-a67d-46c7-9721-5d6d43aada6a",
   "metadata": {},
   "source": [
    "The rand() function makes it easy to generate values of half-open interval in various dimensions:"
   ]
  },
  {
   "cell_type": "code",
   "execution_count": 4,
   "id": "d8c7bcda-6b16-45c1-816a-28b52898c659",
   "metadata": {},
   "outputs": [
    {
     "name": "stdout",
     "output_type": "stream",
     "text": [
      "[[0.14574946 0.10278572 0.68603617]\n",
      " [0.79413673 0.40582786 0.3638236 ]]\n"
     ]
    }
   ],
   "source": [
    "# [0,1) in 2D array\n",
    "x = random.rand(2,3) # ([0,100] x 3) x 2)\n",
    "print(x)"
   ]
  },
  {
   "cell_type": "markdown",
   "id": "149dd5ea-77ee-45d2-b607-7424720cbc21",
   "metadata": {},
   "source": [
    "The choice() function generates random elements for the sequence of data:"
   ]
  },
  {
   "cell_type": "code",
   "execution_count": 5,
   "id": "81a5bb10-743b-4aab-878f-d47ea662f97e",
   "metadata": {},
   "outputs": [
    {
     "name": "stdout",
     "output_type": "stream",
     "text": [
      "[[3 3 9 9 9]\n",
      " [7 3 7 9 3]\n",
      " [3 5 9 7 3]]\n"
     ]
    }
   ],
   "source": [
    "# Generate a 2-D array that consists of the values in the array parameter (3, 5, 7, and 9)\n",
    "x = random.choice([3, 5, 7, 9], size=(3, 5)) # ((3, 5, 7, and 9) x 5) x 3\n",
    "print(x)"
   ]
  },
  {
   "cell_type": "markdown",
   "id": "c7bda5cd-c50c-4bd8-a09b-947ca88f3321",
   "metadata": {},
   "source": [
    "\n"
   ]
  },
  {
   "cell_type": "markdown",
   "id": "1d80f10d-143f-417e-8be4-d34315ab3d39",
   "metadata": {},
   "source": [
    "## References \n",
    "1. Random sampling (numpy.random) — NumPy v1.21 Manual. (2008–2021). NumPy. Retrieved October 31, 2021, from https://numpy.org/doc/stable/reference/random/index.html\n",
    "2. Random Generator — NumPy v1.21 Manual. (2008–2021). NumPy. Retrieved October 31, 2021, from https://numpy.org/doc/stable/reference/random/generator.html#numpy.random.Generator\n",
    "3. Permuted Congruential Generator (64-bit, PCG64) — NumPy v1.21 Manual. (2008–2021). NumPy. Retrieved October 31, 2021, from https://numpy.org/doc/stable/reference/random/bit_generators/pcg64.html#numpy.random.PCG64\n",
    "4. Ebner, J. (2021, July 24). NumPy Random Seed, Explained. Sharp Sight. Retrieved October 31, 2021, from https://www.sharpsightlabs.com/blog/numpy-random-seed/\n",
    "5. Introduction to Random Numbers in NumPy. (1999–2021). W3schools. Retrieved October 31, 2021, from https://www.w3schools.com/python/numpy/numpy_random.asp\n",
    "6. Real Python. (2021, April 3). Generating Random Data in Python (Guide). Retrieved October 31, 2021, from https://realpython.com/python-random/\n",
    "7. random — Generate pseudo-random numbers — Python 3.10.0 documentation. (2001–2021). Python. Retrieved October 31, 2021, from https://docs.python.org/3/library/random.html\n",
    "8. Jupyter Notebook Users Manual.ipynb. (n.d.). Jupyter at Bryn Mawr College. Retrieved November 2, 2021, from https://jupyter.brynmawr.edu/services/public/dblank/Jupyter%20Notebook%20Users%20Manual.ipynb#4.3.5-Notebook-Internal-Links\n",
    "9. Python Random Module. (n.d.). W3schools. Retrieved November 7, 2021, from https://www.w3schools.com/python/module_random.asp\n",
    "10. Lee, W. (2021, September 27). Statistics in Python — Generating Random Numbers in Python, NumPy, and sklearn. Toward Data Science. Retrieved November 7, 2021, from https://towardsdatascience.com/statistics-in-python-generating-random-numbers-in-python-numpy-and-sklearn-60e16b2210ae\n",
    "11. Real Python. (2021, March 19). Python Statistics Fundamentals: How to Describe Your Data. Retrieved November 7, 2021, from https://realpython.com/python-statistics/"
   ]
  },
  {
   "cell_type": "code",
   "execution_count": null,
   "id": "2721c031-dd6f-43b1-b61e-74a3accade3d",
   "metadata": {},
   "outputs": [],
   "source": []
  },
  {
   "cell_type": "code",
   "execution_count": null,
   "id": "2f973ce7-1da9-4c9a-b261-9876246ff8a3",
   "metadata": {},
   "outputs": [],
   "source": []
  }
 ],
 "metadata": {
  "kernelspec": {
   "display_name": "Python 3",
   "language": "python",
   "name": "python3"
  },
  "language_info": {
   "codemirror_mode": {
    "name": "ipython",
    "version": 3
   },
   "file_extension": ".py",
   "mimetype": "text/x-python",
   "name": "python",
   "nbconvert_exporter": "python",
   "pygments_lexer": "ipython3",
   "version": "3.8.8"
  }
 },
 "nbformat": 4,
 "nbformat_minor": 5
}
